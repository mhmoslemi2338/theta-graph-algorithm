{
 "cells": [
  {
   "cell_type": "code",
   "execution_count": 1,
   "id": "tested-roulette",
   "metadata": {},
   "outputs": [
    {
     "name": "stdin",
     "output_type": "stream",
     "text": [
      "Enter number of dots:  4\n",
      "Enter k between five and fifteen:  5\n"
     ]
    }
   ],
   "source": [
    "import matplotlib.pyplot as plt\n",
    "import math\n",
    "import numpy as np\n",
    "import cv2 as cv\n",
    "from mouse_pos import mouse_pos\n",
    "\n",
    "x=768\n",
    "y=576\n",
    "graph=[]\n",
    "\n",
    "n = int(input(\"Enter number of dots: \") )\n",
    "k = int(input(\"Enter k between five and fifteen: \") )"
   ]
  },
  {
   "cell_type": "code",
   "execution_count": 2,
   "id": "current-robertson",
   "metadata": {},
   "outputs": [],
   "source": [
    "\n",
    "\n",
    "def dis(x1, y1, a, b, c):      \n",
    "    d = abs((a * x1 + b * y1 + c)) / (math.sqrt(a * a + b * b))\n",
    "    return d\n",
    "\n",
    "\n",
    "def valid(p1,p2,i):\n",
    "    y_=p2[1]-p1[1]\n",
    "    x_=p2[0]-p1[0]\n",
    "    angle_=math.atan2(y,x)*180/math.pi\n",
    "    if angle_<0:\n",
    "        angle_=angle_+360\n",
    "    angle_=angle_*math.pi/180\n",
    "    if angle_< math.pi*(i+1)/k and angle_> math.pi*(i-1)/k:\n",
    "        return 1\n",
    "    else :\n",
    "        return 0"
   ]
  },
  {
   "cell_type": "code",
   "execution_count": 8,
   "id": "honey-internship",
   "metadata": {},
   "outputs": [],
   "source": [
    "clk=mouse_pos(n,x,y)\n",
    "\n",
    "img = np.zeros([y,x,3],dtype=np.uint8)\n",
    "img.fill(255)\n",
    "for row in clk:\n",
    "    img=cv.circle(img,(row[1][0],row[1][1]), 3, (0,0,255), -1)\n",
    "\n",
    "cv.imshow('image',img)\n",
    "cv.waitKey(0)\n",
    "cv.destroyAllWindows() "
   ]
  },
  {
   "cell_type": "code",
   "execution_count": 36,
   "id": "trained-grass",
   "metadata": {},
   "outputs": [],
   "source": [
    "\n"
   ]
  },
  {
   "cell_type": "code",
   "execution_count": 66,
   "id": "original-cooler",
   "metadata": {},
   "outputs": [],
   "source": []
  },
  {
   "cell_type": "code",
   "execution_count": 4,
   "id": "personalized-emperor",
   "metadata": {},
   "outputs": [],
   "source": [
    "slope=[]\n",
    "\n",
    "for i in range(1,k+1):\n",
    "    slope.append(math.tan(math.pi*i/k))\n",
    "\n",
    "lines=[]\n",
    "for pnt in clk:\n",
    "    for m in slope:\n",
    "        a=-m\n",
    "        b=1\n",
    "        c=m*pnt[1][0]-pnt[1][1]\n",
    "        lines.append([pnt[0],a,b,c])\n",
    "        \n",
    "        \n",
    "        \n",
    "    "
   ]
  },
  {
   "cell_type": "code",
   "execution_count": null,
   "id": "logical-indication",
   "metadata": {},
   "outputs": [],
   "source": []
  },
  {
   "cell_type": "code",
   "execution_count": 5,
   "id": "adverse-battlefield",
   "metadata": {},
   "outputs": [],
   "source": [
    "i=0\n",
    "for pnt in clk:\n",
    "    distance=[]\n",
    "    i=0\n",
    "    for line in lines:\n",
    "        if line[0]==pnt[0]:\n",
    "            i+=1\n",
    "            for row in clk:\n",
    "                if row[0]!=pnt[0]:\n",
    "                    d=dis(row[1][0],row[1][1],line[1],line[2],line[3])\n",
    "                    distance.append([pnt[0],row[0],d])\n",
    "    distance.sort(key=lambda s:s[2])\n",
    "    graph.append([distance[0][0],distance[0][1]])\n"
   ]
  },
  {
   "cell_type": "code",
   "execution_count": 6,
   "id": "naked-birth",
   "metadata": {},
   "outputs": [
    {
     "data": {
      "text/plain": [
       "[[1, 2], [2, 1], [3, 4], [4, 3]]"
      ]
     },
     "execution_count": 6,
     "metadata": {},
     "output_type": "execute_result"
    }
   ],
   "source": [
    "graph"
   ]
  },
  {
   "cell_type": "code",
   "execution_count": null,
   "id": "million-judgment",
   "metadata": {},
   "outputs": [],
   "source": []
  },
  {
   "cell_type": "code",
   "execution_count": null,
   "id": "juvenile-queensland",
   "metadata": {},
   "outputs": [],
   "source": []
  },
  {
   "cell_type": "code",
   "execution_count": null,
   "id": "official-output",
   "metadata": {},
   "outputs": [],
   "source": []
  },
  {
   "cell_type": "code",
   "execution_count": null,
   "id": "tutorial-schema",
   "metadata": {},
   "outputs": [],
   "source": []
  }
 ],
 "metadata": {
  "kernelspec": {
   "display_name": "Python 3",
   "language": "python",
   "name": "python3"
  },
  "language_info": {
   "codemirror_mode": {
    "name": "ipython",
    "version": 3
   },
   "file_extension": ".py",
   "mimetype": "text/x-python",
   "name": "python",
   "nbconvert_exporter": "python",
   "pygments_lexer": "ipython3",
   "version": "3.9.1"
  }
 },
 "nbformat": 4,
 "nbformat_minor": 5
}
