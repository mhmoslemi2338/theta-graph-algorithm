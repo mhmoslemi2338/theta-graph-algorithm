{
 "cells": [
  {
   "cell_type": "code",
   "execution_count": 1,
   "id": "according-catalog",
   "metadata": {},
   "outputs": [],
   "source": [
    "import matplotlib.pyplot as plt\n",
    "import math\n",
    "import numpy as np\n",
    "import cv2 as cv\n",
    "from mouse_pos import mouse_pos\n",
    "\n",
    "pi=math.pi\n",
    "x=768\n",
    "y=576\n",
    "\n",
    "\n",
    "\n",
    "\n",
    "def dis(x1, y1, a, b, c):      \n",
    "    d = abs((a * x1 + b * y1 + c)) / (math.sqrt(a * a + b * b))\n",
    "    return d\n",
    "\n",
    "\n",
    "def valid(p1,p2,i,k):\n",
    "    y_=p2[1]-p1[1]\n",
    "    x_=p2[0]-p1[0]\n",
    "    angle_=math.atan2(y_,x_)\n",
    "    if angle_<0:\n",
    "        angle_+=2*pi\n",
    "    if angle_<= pi*(i)/(k) :\n",
    "        if angle_>= pi*(i-1)/(k):\n",
    "            return 1\n",
    "    return 0\n"
   ]
  },
  {
   "cell_type": "code",
   "execution_count": null,
   "id": "modified-updating",
   "metadata": {},
   "outputs": [],
   "source": []
  },
  {
   "cell_type": "code",
   "execution_count": null,
   "id": "defined-enclosure",
   "metadata": {},
   "outputs": [],
   "source": [
    "\n",
    "n = int(input(\"Enter number of dots: \") )\n",
    "k = int(input(\"Enter k between five and fifteen: \") )\n",
    "\n",
    "clk=mouse_pos(n,x,y)\n",
    "\n",
    "img = np.zeros([y,x,3],dtype=np.uint8)\n",
    "img.fill(255)\n",
    "\n",
    "#cv.imshow('image',img)\n",
    "#cv.waitKey(0)\n",
    "#cv.destroyAllWindows() \n",
    "\n",
    "\n",
    "\n",
    "slope=[]\n",
    "\n",
    "for i in range(1,k+1):\n",
    "    slope.append(math.tan(pi*(2*i-1)/(2*k))\n",
    "\n",
    "lines=[]\n",
    "for pnt in clk:\n",
    "    for m in slope:\n",
    "        a=-m\n",
    "        b=1\n",
    "        c=m*pnt[1][0]-(pnt[1][1])\n",
    "        lines.append([pnt[0],a,b,c])\n",
    "        \n",
    "i=0\n",
    "graph=[]\n",
    "for pnt in clk:\n",
    "    distance=[]\n",
    "    i=0\n",
    "    for line in lines:\n",
    "        if line[0]==pnt[0]:\n",
    "            i+=1\n",
    "            #print(i)\n",
    "            for row in clk:\n",
    "                if row[0]!=pnt[0]:\n",
    "                    if valid(row[1],pnt[1],i,k):\n",
    "                        d=dis(row[1][0],row[1][1],line[1],line[2],line[3])\n",
    "                        distance.append([pnt[0],row[0],d])\n",
    "            distance.sort(key=lambda s:s[2])\n",
    "            \n",
    "            try:\n",
    "                graph.append([distance[0][0],distance[0][1]])\n",
    "            except:\n",
    "                pass\n",
    "\n",
    "for row in graph:\n",
    "    color = (0, 255, 0) \n",
    "    thickness = 1\n",
    "    for pnt in clk:\n",
    "        if row[0]==pnt[0]:\n",
    "            start_point=pnt[1]\n",
    "        if row[1]==pnt[0]:\n",
    "            end_point=pnt[1]\n",
    "    \n",
    "    img = cv.line(img, start_point, end_point, color, thickness)\n",
    "\n",
    "for row in clk:\n",
    "    img=cv.circle(img,(row[1][0],row[1][1]), 3, (0,0,255), 2)\n",
    "\n",
    "        \n",
    "cv.imshow('image',img)\n",
    "cv.waitKey(0)\n",
    "cv.destroyAllWindows() "
   ]
  },
  {
   "cell_type": "code",
   "execution_count": null,
   "id": "realistic-ideal",
   "metadata": {},
   "outputs": [],
   "source": [
    "lines=[]\n",
    "for pnt in clk:\n",
    "    for m in slope:\n",
    "        a=-m\n",
    "        b=1\n",
    "        c=m*pnt[1][0]-(pnt[1][1])\n",
    "        lines.append([pnt[0],a,b,c])\n",
    "        "
   ]
  },
  {
   "cell_type": "code",
   "execution_count": 66,
   "id": "according-parallel",
   "metadata": {},
   "outputs": [
    {
     "data": {
      "text/plain": [
       "(165, 208)"
      ]
     },
     "execution_count": 66,
     "metadata": {},
     "output_type": "execute_result"
    }
   ],
   "source": [
    "pnt[1]\n"
   ]
  },
  {
   "cell_type": "code",
   "execution_count": 67,
   "id": "champion-paper",
   "metadata": {},
   "outputs": [
    {
     "data": {
      "text/plain": [
       "[4, 0.21255656167002177, 1, -243.0718326755536]"
      ]
     },
     "execution_count": 67,
     "metadata": {},
     "output_type": "execute_result"
    }
   ],
   "source": [
    "line"
   ]
  },
  {
   "cell_type": "code",
   "execution_count": null,
   "id": "requested-squad",
   "metadata": {},
   "outputs": [],
   "source": []
  },
  {
   "cell_type": "code",
   "execution_count": 44,
   "id": "turkish-athletics",
   "metadata": {},
   "outputs": [],
   "source": []
  },
  {
   "cell_type": "code",
   "execution_count": null,
   "id": "electrical-divorce",
   "metadata": {},
   "outputs": [],
   "source": []
  },
  {
   "cell_type": "code",
   "execution_count": 45,
   "id": "lyric-athletics",
   "metadata": {},
   "outputs": [],
   "source": []
  },
  {
   "cell_type": "code",
   "execution_count": null,
   "id": "legendary-cherry",
   "metadata": {},
   "outputs": [],
   "source": []
  },
  {
   "cell_type": "code",
   "execution_count": 46,
   "id": "recorded-happiness",
   "metadata": {},
   "outputs": [],
   "source": []
  },
  {
   "cell_type": "code",
   "execution_count": null,
   "id": "exposed-daily",
   "metadata": {},
   "outputs": [],
   "source": []
  }
 ],
 "metadata": {
  "kernelspec": {
   "display_name": "Python 3",
   "language": "python",
   "name": "python3"
  },
  "language_info": {
   "codemirror_mode": {
    "name": "ipython",
    "version": 3
   },
   "file_extension": ".py",
   "mimetype": "text/x-python",
   "name": "python",
   "nbconvert_exporter": "python",
   "pygments_lexer": "ipython3",
   "version": "3.9.1"
  }
 },
 "nbformat": 4,
 "nbformat_minor": 5
}
