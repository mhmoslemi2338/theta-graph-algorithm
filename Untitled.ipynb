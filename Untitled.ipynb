{
 "cells": [
  {
   "cell_type": "code",
   "execution_count": 8,
   "id": "elder-banking",
   "metadata": {},
   "outputs": [],
   "source": [
    "import matplotlib.pyplot as plt\n",
    "import math\n",
    "import numpy as np\n",
    "import cv2 as cv\n",
    "from mouse_pos import mouse_pos\n",
    "\n",
    "x=768\n",
    "y=576"
   ]
  },
  {
   "cell_type": "code",
   "execution_count": 9,
   "id": "instructional-premium",
   "metadata": {},
   "outputs": [],
   "source": []
  },
  {
   "cell_type": "code",
   "execution_count": 18,
   "id": "concrete-capability",
   "metadata": {},
   "outputs": [],
   "source": [
    "clk=mouse_pos(4,x,y)"
   ]
  },
  {
   "cell_type": "code",
   "execution_count": 19,
   "id": "statewide-cattle",
   "metadata": {},
   "outputs": [],
   "source": [
    "img = np.zeros([y,x,3],dtype=np.uint8)\n",
    "img.fill(255)\n",
    "for row in clk:\n",
    "    img=cv.circle(img,(row[0],row[1]), 3, (0,0,255), -1)"
   ]
  },
  {
   "cell_type": "code",
   "execution_count": 20,
   "id": "positive-nirvana",
   "metadata": {},
   "outputs": [],
   "source": [
    "cv.imshow('image',img)\n",
    "cv.waitKey(0) # waits until a key is pressed\n",
    "cv.destroyAllWindows() # destroys the window showing image"
   ]
  },
  {
   "cell_type": "code",
   "execution_count": null,
   "id": "vietnamese-yacht",
   "metadata": {},
   "outputs": [],
   "source": []
  },
  {
   "cell_type": "code",
   "execution_count": null,
   "id": "residential-consistency",
   "metadata": {},
   "outputs": [],
   "source": []
  },
  {
   "cell_type": "code",
   "execution_count": null,
   "id": "complimentary-bosnia",
   "metadata": {},
   "outputs": [],
   "source": []
  },
  {
   "cell_type": "code",
   "execution_count": null,
   "id": "floating-hormone",
   "metadata": {},
   "outputs": [],
   "source": []
  },
  {
   "cell_type": "code",
   "execution_count": null,
   "id": "racial-fleece",
   "metadata": {},
   "outputs": [],
   "source": []
  },
  {
   "cell_type": "code",
   "execution_count": null,
   "id": "plain-gibraltar",
   "metadata": {},
   "outputs": [],
   "source": []
  }
 ],
 "metadata": {
  "kernelspec": {
   "display_name": "Python 3",
   "language": "python",
   "name": "python3"
  },
  "language_info": {
   "codemirror_mode": {
    "name": "ipython",
    "version": 3
   },
   "file_extension": ".py",
   "mimetype": "text/x-python",
   "name": "python",
   "nbconvert_exporter": "python",
   "pygments_lexer": "ipython3",
   "version": "3.9.1"
  }
 },
 "nbformat": 4,
 "nbformat_minor": 5
}
